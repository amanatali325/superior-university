{
 "cells": [
  {
   "cell_type": "markdown",
   "metadata": {},
   "source": [
    "# task 1"
   ]
  },
  {
   "cell_type": "code",
   "execution_count": 1,
   "metadata": {},
   "outputs": [
    {
     "name": "stdout",
     "output_type": "stream",
     "text": [
      "Card number 4532015112830366 is valid: True\n"
     ]
    }
   ],
   "source": [
    "def luhn_algorithm(card_number):\n",
    "    def digits_of(n):\n",
    "        return [int(d) for d in str(n)]\n",
    "    \n",
    "    digits = digits_of(card_number)\n",
    "    odd_digits = digits[-1::-2]\n",
    "    even_digits = digits[-2::-2]\n",
    "    checksum = sum(odd_digits)\n",
    "    \n",
    "    for d in even_digits:\n",
    "        checksum += sum(digits_of(d * 2))\n",
    "    \n",
    "    return checksum % 10 == 0\n",
    "\n",
    "card_number = 4532015112830366\n",
    "print(f\"Card number {card_number} is valid: {luhn_algorithm(card_number)}\")"
   ]
  },
  {
   "cell_type": "markdown",
   "metadata": {},
   "source": [
    "# task 2"
   ]
  },
  {
   "cell_type": "code",
   "execution_count": 3,
   "metadata": {},
   "outputs": [
    {
     "name": "stdout",
     "output_type": "stream",
     "text": [
      "Hello world This is a test\n"
     ]
    }
   ],
   "source": [
    "import string\n",
    "\n",
    "def remove_punctuations(input_string):\n",
    "    punctuations = string.punctuation\n",
    "    result = ''.join(char for char in input_string if char not in punctuations)\n",
    "    return result\n",
    "\n",
    "\n",
    "user_input = \"Hello, world! This is a test.\"\n",
    "print(remove_punctuations(user_input))"
   ]
  },
  {
   "cell_type": "markdown",
   "metadata": {},
   "source": [
    "# task 3"
   ]
  },
  {
   "cell_type": "code",
   "execution_count": 4,
   "metadata": {},
   "outputs": [
    {
     "name": "stdout",
     "output_type": "stream",
     "text": [
      "ehllo\n",
      "ehllo dlorw hist is a estt\n"
     ]
    }
   ],
   "source": [
    "def sort_word(word):\n",
    "    sorted_word = ''.join(sorted(word))\n",
    "    return sorted_word\n",
    "\n",
    "\n",
    "text = \"hello\"\n",
    "print(sort_word(text))\n",
    "\n",
    "def sort_sentence(sentence):\n",
    "    words = sentence.split()\n",
    "    sorted_words = []\n",
    "    for word in words:\n",
    "        sorted_word = ''.join(sorted(word))\n",
    "        sorted_words.append(sorted_word)\n",
    "    return ' '.join(sorted_words)\n",
    "\n",
    "\n",
    "sentence = \"hello world this is a test\"\n",
    "print(sort_sentence(sentence))"
   ]
  }
 ],
 "metadata": {
  "kernelspec": {
   "display_name": "Python 3",
   "language": "python",
   "name": "python3"
  },
  "language_info": {
   "codemirror_mode": {
    "name": "ipython",
    "version": 3
   },
   "file_extension": ".py",
   "mimetype": "text/x-python",
   "name": "python",
   "nbconvert_exporter": "python",
   "pygments_lexer": "ipython3",
   "version": "3.11.4"
  }
 },
 "nbformat": 4,
 "nbformat_minor": 2
}
