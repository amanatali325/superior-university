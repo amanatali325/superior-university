{
 "cells": [
  {
   "cell_type": "code",
   "execution_count": 1,
   "metadata": {},
   "outputs": [
    {
     "name": "stdout",
     "output_type": "stream",
     "text": [
      "The average budget of the movies is: 529242105700.00\n",
      "Avengers: Age of Ultron has a budget higher than the average by 3169625564300.00\n",
      "Number of movies with a budget higher than the average: 1\n"
     ]
    }
   ],
   "source": [
    "movies = [\n",
    "    (\"Eternal Sunshine of the Spotless Mind\", 20000000),\n",
    "    (\"Memento\", 9000000),\n",
    "    (\"Requiem for a Dream\", 4500000),\n",
    "    (\"Pirates of the Caribbean: On Stranger Tides\", 3790009900),\n",
    "    (\"Avengers: Age of Ultron\", 3698867670000),\n",
    "    (\"Avengers: Endgame\", 3560000),\n",
    "    (\"Incredibles 2\", 2000000000)\n",
    "]\n",
    "\n",
    "def calculate_average_budget(movies):\n",
    "    total_budget = sum(budget for _, budget in movies)\n",
    "    return total_budget / len(movies)\n",
    "\n",
    "def find_high_budget_movies(movies, average_budget):\n",
    "    high_budget_movies = [(name, budget) for name, budget in movies if budget > average_budget]\n",
    "    for name, budget in high_budget_movies:\n",
    "        print(f\"{name} has a budget higher than the average by {budget - average_budget:.2f}\")\n",
    "    print(f\"Number of movies with a budget higher than the average: {len(high_budget_movies)}\")\n",
    "\n",
    "def add_movies(movies):\n",
    "    num_movies_to_add\n",
    "    int(input(\"How many movies do you want to add? \"))\n",
    "    for _ in range(num_movies_to_add):\n",
    "        name = input(\"Enter the movie name: \")\n",
    "        budget = int(input(\"Enter the movie budget: \"))\n",
    "        movies.append((name, budget))\n",
    "\n",
    "def main():\n",
    "    add_more = input(\"Do you want to add more movies? (yes/no): \").strip().lower()\n",
    "    if add_more == 'yes':\n",
    "        add_movies(movies)\n",
    "    \n",
    "    average_budget = calculate_average_budget(movies)\n",
    "    print(f\"The average budget of the movies is: {average_budget:.2f}\")\n",
    "    find_high_budget_movies(movies, average_budget)\n",
    "\n",
    "main()"
   ]
  },
  {
   "cell_type": "code",
   "execution_count": 2,
   "metadata": {},
   "outputs": [
    {
     "name": "stdout",
     "output_type": "stream",
     "text": [
      "Living Room: Current temperature = 18°C. Turn on heater.\n",
      "Bedroom: Current temperature = 22°C. Turn off heater.\n",
      "Kitchen: Current temperature = 20°C. Turn on heater.\n",
      "Bathroom: Current temperature = 24°C. Turn off heater.\n"
     ]
    }
   ],
   "source": [
    "class SimpleReflexAgent:\n",
    "    def __init__(self, desired_temperature):\n",
    "        self.desired_temperature = desired_temperature \n",
    "\n",
    "    def perceive(self, current_temperature):\n",
    "        return current_temperature\n",
    "\n",
    "    def act(self, current_temperature):\n",
    "        if current_temperature < self.desired_temperature:\n",
    "            action = \"Turn on heater\"\n",
    "        else:\n",
    "            action = \"Turn off heater\"\n",
    "        return action\n",
    "\n",
    "rooms = {\n",
    "    \"Living Room\": 18,\n",
    "    \"Bedroom\": 22,\n",
    "    \"Kitchen\": 20,\n",
    "    \"Bathroom\": 24\n",
    "}\n",
    "\n",
    "desired_temperature = 22\n",
    "agent = SimpleReflexAgent(desired_temperature)\n",
    "\n",
    "for room, temperature in rooms.items():\n",
    "    action = agent.act(temperature)\n",
    "    print(f\"{room}: Current temperature = {temperature}°C. {action}.\")"
   ]
  }
 ],
 "metadata": {
  "kernelspec": {
   "display_name": "Python 3",
   "language": "python",
   "name": "python3"
  },
  "language_info": {
   "codemirror_mode": {
    "name": "ipython",
    "version": 3
   },
   "file_extension": ".py",
   "mimetype": "text/x-python",
   "name": "python",
   "nbconvert_exporter": "python",
   "pygments_lexer": "ipython3",
   "version": "3.11.4"
  }
 },
 "nbformat": 4,
 "nbformat_minor": 2
}
