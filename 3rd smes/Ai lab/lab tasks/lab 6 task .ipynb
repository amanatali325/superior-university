{
 "cells": [
  {
   "cell_type": "markdown",
   "id": "4a7a24e3",
   "metadata": {},
   "source": [
    "#1 "
   ]
  },
  {
   "cell_type": "code",
   "execution_count": 3,
   "id": "59651297",
   "metadata": {},
   "outputs": [
    {
     "name": "stdout",
     "output_type": "stream",
     "text": [
      "0 1 2 3 4 "
     ]
    }
   ],
   "source": [
    "def bfs_without_queue(graph, start):\n",
    "    visited = [False] * len(graph)\n",
    "    to_visit = [start]\n",
    "    next_level = []\n",
    "\n",
    "    while to_visit:\n",
    "        for node in to_visit:\n",
    "            if not visited[node]:\n",
    "                print(node, end=\" \")\n",
    "                visited[node] = True\n",
    "                next_level.extend(i for i, is_connected in enumerate(graph[node]) if is_connected and not visited[i])\n",
    "        to_visit = next_level\n",
    "        next_level = []\n",
    "\n",
    "graph = [\n",
    "    [0, 1, 1, 0, 0],\n",
    "    [1, 0, 1, 1, 0],\n",
    "    [1, 1, 0, 0, 1],\n",
    "    [0, 1, 0, 0, 1],\n",
    "    [0, 0, 1, 1, 0]\n",
    "]\n",
    "\n",
    "bfs_without_queue(graph, 0) \n"
   ]
  },
  {
   "cell_type": "markdown",
   "id": "62bb6e88",
   "metadata": {},
   "source": [
    "#2"
   ]
  },
  {
   "cell_type": "code",
   "execution_count": 4,
   "id": "3ec2601d",
   "metadata": {},
   "outputs": [
    {
     "name": "stdout",
     "output_type": "stream",
     "text": [
      "A B C D E "
     ]
    }
   ],
   "source": [
    "from collections import deque\n",
    "\n",
    "class Node:\n",
    "    def __init__(self, value):\n",
    "        self.value = value\n",
    "        self.neighbors = []\n",
    "\n",
    "    def add_neighbor(self, node):\n",
    "        self.neighbors.append(node)\n",
    "\n",
    "def bfs_with_queue(start_node):\n",
    "    visited = set()\n",
    "    queue = deque([start_node])\n",
    "\n",
    "    while queue:\n",
    "        current_node = queue.popleft()\n",
    "\n",
    "        if current_node not in visited:\n",
    "            print(current_node.value, end=\" \")\n",
    "            visited.add(current_node)\n",
    "\n",
    "            for neighbor in current_node.neighbors:\n",
    "                if neighbor not in visited:\n",
    "                    queue.append(neighbor)\n",
    "\n",
    "a = Node('A')\n",
    "b = Node('B')\n",
    "c = Node('C')\n",
    "d = Node('D')\n",
    "e = Node('E')\n",
    "\n",
    "a.add_neighbor(b)\n",
    "a.add_neighbor(c)\n",
    "b.add_neighbor(d)\n",
    "c.add_neighbor(e)\n",
    "\n",
    "bfs_with_queue(a)  \n"
   ]
  },
  {
   "cell_type": "code",
   "execution_count": null,
   "id": "e83e4f26",
   "metadata": {},
   "outputs": [],
   "source": []
  }
 ],
 "metadata": {
  "kernelspec": {
   "display_name": "Python 3 (ipykernel)",
   "language": "python",
   "name": "python3"
  },
  "language_info": {
   "codemirror_mode": {
    "name": "ipython",
    "version": 3
   },
   "file_extension": ".py",
   "mimetype": "text/x-python",
   "name": "python",
   "nbconvert_exporter": "python",
   "pygments_lexer": "ipython3",
   "version": "3.11.5"
  }
 },
 "nbformat": 4,
 "nbformat_minor": 5
}
